{
 "cells": [
  {
   "cell_type": "markdown",
   "metadata": {},
   "source": [
    "<center>\n",
    "    <img src=\"https://cf-courses-data.s3.us.cloud-object-storage.appdomain.cloud/IBMDeveloperSkillsNetwork-DS0105EN-SkillsNetwork/labs/Module2/images/SN_web_lightmode.png\" width=\"300\" alt=\"cognitiveclass.ai logo\">\n",
    "</center>\n"
   ]
  },
  {
   "cell_type": "markdown",
   "metadata": {},
   "source": [
    "<center>\n",
    "    <H1> Data Science Tools and Ecosystem </H1>\n",
    "</center>"
   ]
  },
  {
   "cell_type": "markdown",
   "metadata": {},
   "source": [
    "<p> In this notebook, Data Science Tools and Ecosystem are summarized.</p>"
   ]
  },
  {
   "cell_type": "markdown",
   "metadata": {
    "tags": []
   },
   "source": [
    "<h3> Some of the popular languages that Data Scientists use are: </h3>\n",
    "\n",
    "<ul>\n",
    "    <li> Python </li>\n",
    "    <li> R </li>\n",
    "    <li> Julie </li>\n",
    "    <li> SQL </li>\n",
    "    <li> Java </li>\n",
    "    <li> Ruby </li>\n",
    "    <li> JavaScript </li>\n",
    "    <li> PHP </li>\n",
    "</ul>"
   ]
  },
  {
   "cell_type": "markdown",
   "metadata": {
    "tags": []
   },
   "source": [
    "<h3> Some of the commonly used libraries used by Data Scientists include: </h3>\n",
    "\n",
    "<ul>\n",
    "    <li> numpy </li>\n",
    "    <li> pandas </li>\n",
    "    <li> matplotlib </li>\n",
    "    <li> ggplot2 </li>\n",
    "    <li> Tensorflow </li>\n",
    "    <li> Keras </li>\n",
    "    <li> Skeathlearning </li>\n",
    "    <li> plotly </li>\n",
    "</ul>\n"
   ]
  },
  {
   "cell_type": "markdown",
   "metadata": {},
   "source": [
    "<h3> Data Science Tools </h3>\n",
    "\n",
    "<ul>\n",
    "    <li> SQLserve </li>\n",
    "    <li> Apache Hadoop </li>\n",
    "    <li> kubeflow </li>\n",
    "    <li> Apache AirFlow </li>\n",
    "    <li> Apache Kafkar </li>\n",
    "    <li> Apache Spark </li>\n",
    "    <li> ibm watson studio </li>\n",
    "    <li> Powerbi </li>\n",
    "    <li> JupyterLabs </li>\n",
    "    <li> Anaconda </li>\n",
    "</ul>\n"
   ]
  },
  {
   "cell_type": "code",
   "execution_count": 4,
   "metadata": {
    "tags": []
   },
   "outputs": [
    {
     "name": "stdout",
     "output_type": "stream",
     "text": [
      "50 2.0 15 5\n"
     ]
    }
   ],
   "source": [
    "a = 10\n",
    "b = 5\n",
    "\n",
    "multply = a * b\n",
    "divided = a/b\n",
    "plus = a + b\n",
    "substract = a - b\n",
    "\n",
    "print(multply, divided, plus, substract)"
   ]
  },
  {
   "cell_type": "code",
   "execution_count": 3,
   "metadata": {
    "tags": []
   },
   "outputs": [
    {
     "name": "stdout",
     "output_type": "stream",
     "text": [
      "207\n"
     ]
    }
   ],
   "source": [
    "a = 5\n",
    "b = 10\n",
    "c = 8\n",
    "d = 9\n",
    "\n",
    "expressions = (a + b + c) * d\n",
    "\n",
    "print(expressions)"
   ]
  },
  {
   "cell_type": "code",
   "execution_count": 5,
   "metadata": {
    "tags": []
   },
   "outputs": [
    {
     "name": "stdout",
     "output_type": "stream",
     "text": [
      "125 minutos são 2 horas e 5 minutos.\n"
     ]
    }
   ],
   "source": [
    "def converter_minutos_em_horas(minutos):\n",
    "    horas = minutos // 60\n",
    "    minutos_restantes = minutos % 60\n",
    "    return horas, minutos_restantes\n",
    "\n",
    "# Exemplo de uso:\n",
    "minutos = 125\n",
    "horas, minutos_restantes = converter_minutos_em_horas(minutos)\n",
    "print(f\"{minutos} minutos são {horas} horas e {minutos_restantes} minutos.\")"
   ]
  },
  {
   "cell_type": "markdown",
   "metadata": {},
   "source": [
    "<h3> objective: </h3>\n",
    "\n",
    "<ul>\n",
    "    <li>List popular languages for Data Science.</li>\n",
    "    <li>Explain key concepts of Machine Learning.</li>\n",
    "    <li>Demonstrate how to clean and prepare data for analysis.</li>\n",
    "    <li>Introduce data visualization techniques.</li>\n",
    "    <li>Present common libraries and tools used in Data Science.</li>\n",
    "</ul>\n"
   ]
  },
  {
   "cell_type": "markdown",
   "metadata": {},
   "source": [
    "<h2> Author </h2>\n",
    "<p> Guilherme Stefano Do Nascimento> </p>"
   ]
  },
  {
   "cell_type": "code",
   "execution_count": null,
   "metadata": {},
   "outputs": [],
   "source": []
  }
 ],
 "metadata": {
  "kernelspec": {
   "display_name": "Python",
   "language": "python",
   "name": "conda-env-python-py"
  },
  "language_info": {
   "codemirror_mode": {
    "name": "ipython",
    "version": 3
   },
   "file_extension": ".py",
   "mimetype": "text/x-python",
   "name": "python",
   "nbconvert_exporter": "python",
   "pygments_lexer": "ipython3",
   "version": "3.7.12"
  }
 },
 "nbformat": 4,
 "nbformat_minor": 4
}
